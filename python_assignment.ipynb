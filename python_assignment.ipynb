{
 "cells": [
  {
   "cell_type": "code",
   "execution_count": 2,
   "id": "3439a4ff",
   "metadata": {},
   "outputs": [],
   "source": [
    "import pandas as pd\n",
    "from datetime import date"
   ]
  },
  {
   "cell_type": "code",
   "execution_count": 3,
   "id": "542837f6",
   "metadata": {},
   "outputs": [],
   "source": [
    "df1=pd.read_csv(\"airlines.csv\")\n",
    "df2=pd.read_csv(\"flights.csv\")\n",
    "df3=pd.read_csv(\"planes.csv\")\n",
    "df4=pd.read_csv(\"weather.csv\")\n",
    "df5=pd.read_csv(\"airports.csv\")"
   ]
  },
  {
   "cell_type": "markdown",
   "id": "0b4b44de",
   "metadata": {},
   "source": [
    "### 1. how many total number of days does the flights table cover?"
   ]
  },
  {
   "cell_type": "code",
   "execution_count": 4,
   "id": "8043463d",
   "metadata": {},
   "outputs": [
    {
     "data": {
      "text/html": [
       "<div>\n",
       "<style scoped>\n",
       "    .dataframe tbody tr th:only-of-type {\n",
       "        vertical-align: middle;\n",
       "    }\n",
       "\n",
       "    .dataframe tbody tr th {\n",
       "        vertical-align: top;\n",
       "    }\n",
       "\n",
       "    .dataframe thead th {\n",
       "        text-align: right;\n",
       "    }\n",
       "</style>\n",
       "<table border=\"1\" class=\"dataframe\">\n",
       "  <thead>\n",
       "    <tr style=\"text-align: right;\">\n",
       "      <th></th>\n",
       "      <th>year</th>\n",
       "      <th>month</th>\n",
       "      <th>day</th>\n",
       "      <th>dep_time</th>\n",
       "      <th>dep_delay</th>\n",
       "      <th>arr_time</th>\n",
       "      <th>arr_delay</th>\n",
       "      <th>carrier</th>\n",
       "      <th>tailnum</th>\n",
       "      <th>flight</th>\n",
       "      <th>origin</th>\n",
       "      <th>dest</th>\n",
       "      <th>air_time</th>\n",
       "      <th>distance</th>\n",
       "      <th>hour</th>\n",
       "      <th>minute</th>\n",
       "      <th>Date</th>\n",
       "    </tr>\n",
       "  </thead>\n",
       "  <tbody>\n",
       "    <tr>\n",
       "      <th>0</th>\n",
       "      <td>2013</td>\n",
       "      <td>1</td>\n",
       "      <td>1</td>\n",
       "      <td>517.0</td>\n",
       "      <td>2.0</td>\n",
       "      <td>830.0</td>\n",
       "      <td>11.0</td>\n",
       "      <td>UA</td>\n",
       "      <td>N14228</td>\n",
       "      <td>1545</td>\n",
       "      <td>EWR</td>\n",
       "      <td>IAH</td>\n",
       "      <td>227.0</td>\n",
       "      <td>1400</td>\n",
       "      <td>5.0</td>\n",
       "      <td>17.0</td>\n",
       "      <td>2013-01-01</td>\n",
       "    </tr>\n",
       "    <tr>\n",
       "      <th>1</th>\n",
       "      <td>2013</td>\n",
       "      <td>1</td>\n",
       "      <td>1</td>\n",
       "      <td>533.0</td>\n",
       "      <td>4.0</td>\n",
       "      <td>850.0</td>\n",
       "      <td>20.0</td>\n",
       "      <td>UA</td>\n",
       "      <td>N24211</td>\n",
       "      <td>1714</td>\n",
       "      <td>LGA</td>\n",
       "      <td>IAH</td>\n",
       "      <td>227.0</td>\n",
       "      <td>1416</td>\n",
       "      <td>5.0</td>\n",
       "      <td>33.0</td>\n",
       "      <td>2013-01-01</td>\n",
       "    </tr>\n",
       "    <tr>\n",
       "      <th>2</th>\n",
       "      <td>2013</td>\n",
       "      <td>1</td>\n",
       "      <td>1</td>\n",
       "      <td>542.0</td>\n",
       "      <td>2.0</td>\n",
       "      <td>923.0</td>\n",
       "      <td>33.0</td>\n",
       "      <td>AA</td>\n",
       "      <td>N619AA</td>\n",
       "      <td>1141</td>\n",
       "      <td>JFK</td>\n",
       "      <td>MIA</td>\n",
       "      <td>160.0</td>\n",
       "      <td>1089</td>\n",
       "      <td>5.0</td>\n",
       "      <td>42.0</td>\n",
       "      <td>2013-01-01</td>\n",
       "    </tr>\n",
       "    <tr>\n",
       "      <th>3</th>\n",
       "      <td>2013</td>\n",
       "      <td>1</td>\n",
       "      <td>1</td>\n",
       "      <td>544.0</td>\n",
       "      <td>-1.0</td>\n",
       "      <td>1004.0</td>\n",
       "      <td>-18.0</td>\n",
       "      <td>B6</td>\n",
       "      <td>N804JB</td>\n",
       "      <td>725</td>\n",
       "      <td>JFK</td>\n",
       "      <td>BQN</td>\n",
       "      <td>183.0</td>\n",
       "      <td>1576</td>\n",
       "      <td>5.0</td>\n",
       "      <td>44.0</td>\n",
       "      <td>2013-01-01</td>\n",
       "    </tr>\n",
       "    <tr>\n",
       "      <th>4</th>\n",
       "      <td>2013</td>\n",
       "      <td>1</td>\n",
       "      <td>1</td>\n",
       "      <td>554.0</td>\n",
       "      <td>-6.0</td>\n",
       "      <td>812.0</td>\n",
       "      <td>-25.0</td>\n",
       "      <td>DL</td>\n",
       "      <td>N668DN</td>\n",
       "      <td>461</td>\n",
       "      <td>LGA</td>\n",
       "      <td>ATL</td>\n",
       "      <td>116.0</td>\n",
       "      <td>762</td>\n",
       "      <td>5.0</td>\n",
       "      <td>54.0</td>\n",
       "      <td>2013-01-01</td>\n",
       "    </tr>\n",
       "  </tbody>\n",
       "</table>\n",
       "</div>"
      ],
      "text/plain": [
       "   year  month  day  dep_time  dep_delay  arr_time  arr_delay carrier tailnum  \\\n",
       "0  2013      1    1     517.0        2.0     830.0       11.0      UA  N14228   \n",
       "1  2013      1    1     533.0        4.0     850.0       20.0      UA  N24211   \n",
       "2  2013      1    1     542.0        2.0     923.0       33.0      AA  N619AA   \n",
       "3  2013      1    1     544.0       -1.0    1004.0      -18.0      B6  N804JB   \n",
       "4  2013      1    1     554.0       -6.0     812.0      -25.0      DL  N668DN   \n",
       "\n",
       "   flight origin dest  air_time  distance  hour  minute       Date  \n",
       "0    1545    EWR  IAH     227.0      1400   5.0    17.0 2013-01-01  \n",
       "1    1714    LGA  IAH     227.0      1416   5.0    33.0 2013-01-01  \n",
       "2    1141    JFK  MIA     160.0      1089   5.0    42.0 2013-01-01  \n",
       "3     725    JFK  BQN     183.0      1576   5.0    44.0 2013-01-01  \n",
       "4     461    LGA  ATL     116.0       762   5.0    54.0 2013-01-01  "
      ]
     },
     "execution_count": 4,
     "metadata": {},
     "output_type": "execute_result"
    }
   ],
   "source": [
    "#df2['date']=df2['day']+df2['month']+df2['year']\n",
    "df2[\"Date\"] = pd.to_datetime(df2[\"year\"].astype(str) + \"/\" + df2[\"month\"].astype(str) + \"/\" + df2[\"day\"].astype(str))\n",
    "df2.head()"
   ]
  },
  {
   "cell_type": "code",
   "execution_count": 5,
   "id": "48e80c1b",
   "metadata": {},
   "outputs": [
    {
     "data": {
      "text/plain": [
       "0        2013-01-01\n",
       "1        2013-01-01\n",
       "2        2013-01-01\n",
       "3        2013-01-01\n",
       "4        2013-01-01\n",
       "            ...    \n",
       "336771   2013-09-30\n",
       "336772   2013-09-30\n",
       "336773   2013-09-30\n",
       "336774   2013-09-30\n",
       "336775   2013-09-30\n",
       "Name: Date, Length: 336776, dtype: datetime64[ns]"
      ]
     },
     "execution_count": 5,
     "metadata": {},
     "output_type": "execute_result"
    }
   ],
   "source": [
    "df2[\"Date\"]"
   ]
  },
  {
   "cell_type": "code",
   "execution_count": 9,
   "id": "4a7ed1bc",
   "metadata": {},
   "outputs": [
    {
     "data": {
      "text/plain": [
       "365"
      ]
     },
     "execution_count": 9,
     "metadata": {},
     "output_type": "execute_result"
    }
   ],
   "source": [
    "x=set(df2[\"Date\"])\n",
    "len(x)"
   ]
  },
  {
   "cell_type": "code",
   "execution_count": null,
   "id": "e962db6c",
   "metadata": {},
   "outputs": [],
   "source": [
    "# Ans: The flights dataset cover all 365 days "
   ]
  },
  {
   "cell_type": "markdown",
   "id": "75bcd765",
   "metadata": {},
   "source": [
    "### 2. how many departure cities (not airports) does the flights database cover?"
   ]
  },
  {
   "cell_type": "code",
   "execution_count": 10,
   "id": "bfc369b8",
   "metadata": {},
   "outputs": [
    {
     "data": {
      "text/plain": [
       "3"
      ]
     },
     "execution_count": 10,
     "metadata": {},
     "output_type": "execute_result"
    }
   ],
   "source": [
    "y=set(df2[\"origin\"])\n",
    "len(y)"
   ]
  },
  {
   "cell_type": "code",
   "execution_count": null,
   "id": "c5c7b7d9",
   "metadata": {},
   "outputs": [],
   "source": [
    "# Ans: There are 3 departure cities the flights dataset cover"
   ]
  },
  {
   "cell_type": "markdown",
   "id": "8b90893f",
   "metadata": {},
   "source": [
    "### 3. what is the relationship between flights and planes tables?"
   ]
  },
  {
   "cell_type": "code",
   "execution_count": 91,
   "id": "17ab97f1",
   "metadata": {},
   "outputs": [
    {
     "data": {
      "text/plain": [
       "year        NaN\n",
       "air_time    NaN\n",
       "arr_delay   NaN\n",
       "arr_time    NaN\n",
       "day         NaN\n",
       "dep_delay   NaN\n",
       "dep_time    NaN\n",
       "distance    NaN\n",
       "engines     NaN\n",
       "flight      NaN\n",
       "hour        NaN\n",
       "minute      NaN\n",
       "month       NaN\n",
       "seats       NaN\n",
       "speed       NaN\n",
       "dtype: float64"
      ]
     },
     "execution_count": 91,
     "metadata": {},
     "output_type": "execute_result"
    }
   ],
   "source": [
    "df2.corrwith(df3, axis = 0)"
   ]
  },
  {
   "cell_type": "code",
   "execution_count": null,
   "id": "25a20cb7",
   "metadata": {},
   "outputs": [],
   "source": [
    "# Ans: From the above result it is clear that there is no relation between flights and planes datasets"
   ]
  },
  {
   "cell_type": "markdown",
   "id": "e4c5d5c0",
   "metadata": {},
   "source": [
    "### 4. which airplane manufacturer incurred the most delays in the analysis period?"
   ]
  },
  {
   "cell_type": "code",
   "execution_count": 88,
   "id": "81e0af61",
   "metadata": {},
   "outputs": [
    {
     "data": {
      "text/html": [
       "<div>\n",
       "<style scoped>\n",
       "    .dataframe tbody tr th:only-of-type {\n",
       "        vertical-align: middle;\n",
       "    }\n",
       "\n",
       "    .dataframe tbody tr th {\n",
       "        vertical-align: top;\n",
       "    }\n",
       "\n",
       "    .dataframe thead th {\n",
       "        text-align: right;\n",
       "    }\n",
       "</style>\n",
       "<table border=\"1\" class=\"dataframe\">\n",
       "  <thead>\n",
       "    <tr style=\"text-align: right;\">\n",
       "      <th></th>\n",
       "      <th>year</th>\n",
       "      <th>month</th>\n",
       "      <th>day</th>\n",
       "      <th>dep_time</th>\n",
       "      <th>dep_delay</th>\n",
       "      <th>arr_time</th>\n",
       "      <th>arr_delay</th>\n",
       "      <th>carrier</th>\n",
       "      <th>tailnum</th>\n",
       "      <th>flight</th>\n",
       "      <th>...</th>\n",
       "      <th>hour</th>\n",
       "      <th>minute</th>\n",
       "      <th>Date</th>\n",
       "      <th>type</th>\n",
       "      <th>manufacturer</th>\n",
       "      <th>model</th>\n",
       "      <th>engines</th>\n",
       "      <th>seats</th>\n",
       "      <th>speed</th>\n",
       "      <th>engine</th>\n",
       "    </tr>\n",
       "  </thead>\n",
       "  <tbody>\n",
       "    <tr>\n",
       "      <th>0</th>\n",
       "      <td>2013</td>\n",
       "      <td>1</td>\n",
       "      <td>18</td>\n",
       "      <td>1846.0</td>\n",
       "      <td>36.0</td>\n",
       "      <td>2156.0</td>\n",
       "      <td>36.0</td>\n",
       "      <td>UA</td>\n",
       "      <td>N37465</td>\n",
       "      <td>1292</td>\n",
       "      <td>...</td>\n",
       "      <td>18.0</td>\n",
       "      <td>46.0</td>\n",
       "      <td>2013-01-18</td>\n",
       "      <td>Fixed wing multi engine</td>\n",
       "      <td>BOEING</td>\n",
       "      <td>737-924ER</td>\n",
       "      <td>2</td>\n",
       "      <td>191</td>\n",
       "      <td>NaN</td>\n",
       "      <td>Turbo-fan</td>\n",
       "    </tr>\n",
       "    <tr>\n",
       "      <th>1</th>\n",
       "      <td>2013</td>\n",
       "      <td>10</td>\n",
       "      <td>3</td>\n",
       "      <td>1257.0</td>\n",
       "      <td>0.0</td>\n",
       "      <td>1544.0</td>\n",
       "      <td>-18.0</td>\n",
       "      <td>UA</td>\n",
       "      <td>N37465</td>\n",
       "      <td>1158</td>\n",
       "      <td>...</td>\n",
       "      <td>12.0</td>\n",
       "      <td>57.0</td>\n",
       "      <td>2013-10-03</td>\n",
       "      <td>Fixed wing multi engine</td>\n",
       "      <td>BOEING</td>\n",
       "      <td>737-924ER</td>\n",
       "      <td>2</td>\n",
       "      <td>191</td>\n",
       "      <td>NaN</td>\n",
       "      <td>Turbo-fan</td>\n",
       "    </tr>\n",
       "    <tr>\n",
       "      <th>2</th>\n",
       "      <td>2013</td>\n",
       "      <td>10</td>\n",
       "      <td>3</td>\n",
       "      <td>2058.0</td>\n",
       "      <td>-1.0</td>\n",
       "      <td>2323.0</td>\n",
       "      <td>-35.0</td>\n",
       "      <td>UA</td>\n",
       "      <td>N37465</td>\n",
       "      <td>1416</td>\n",
       "      <td>...</td>\n",
       "      <td>20.0</td>\n",
       "      <td>58.0</td>\n",
       "      <td>2013-10-03</td>\n",
       "      <td>Fixed wing multi engine</td>\n",
       "      <td>BOEING</td>\n",
       "      <td>737-924ER</td>\n",
       "      <td>2</td>\n",
       "      <td>191</td>\n",
       "      <td>NaN</td>\n",
       "      <td>Turbo-fan</td>\n",
       "    </tr>\n",
       "    <tr>\n",
       "      <th>3</th>\n",
       "      <td>2013</td>\n",
       "      <td>10</td>\n",
       "      <td>4</td>\n",
       "      <td>1003.0</td>\n",
       "      <td>3.0</td>\n",
       "      <td>1300.0</td>\n",
       "      <td>-6.0</td>\n",
       "      <td>UA</td>\n",
       "      <td>N37465</td>\n",
       "      <td>1735</td>\n",
       "      <td>...</td>\n",
       "      <td>10.0</td>\n",
       "      <td>3.0</td>\n",
       "      <td>2013-10-04</td>\n",
       "      <td>Fixed wing multi engine</td>\n",
       "      <td>BOEING</td>\n",
       "      <td>737-924ER</td>\n",
       "      <td>2</td>\n",
       "      <td>191</td>\n",
       "      <td>NaN</td>\n",
       "      <td>Turbo-fan</td>\n",
       "    </tr>\n",
       "    <tr>\n",
       "      <th>4</th>\n",
       "      <td>2013</td>\n",
       "      <td>10</td>\n",
       "      <td>7</td>\n",
       "      <td>1926.0</td>\n",
       "      <td>81.0</td>\n",
       "      <td>2123.0</td>\n",
       "      <td>55.0</td>\n",
       "      <td>UA</td>\n",
       "      <td>N37465</td>\n",
       "      <td>1139</td>\n",
       "      <td>...</td>\n",
       "      <td>19.0</td>\n",
       "      <td>26.0</td>\n",
       "      <td>2013-10-07</td>\n",
       "      <td>Fixed wing multi engine</td>\n",
       "      <td>BOEING</td>\n",
       "      <td>737-924ER</td>\n",
       "      <td>2</td>\n",
       "      <td>191</td>\n",
       "      <td>NaN</td>\n",
       "      <td>Turbo-fan</td>\n",
       "    </tr>\n",
       "  </tbody>\n",
       "</table>\n",
       "<p>5 rows × 24 columns</p>\n",
       "</div>"
      ],
      "text/plain": [
       "   year  month  day  dep_time  dep_delay  arr_time  arr_delay carrier tailnum  \\\n",
       "0  2013      1   18    1846.0       36.0    2156.0       36.0      UA  N37465   \n",
       "1  2013     10    3    1257.0        0.0    1544.0      -18.0      UA  N37465   \n",
       "2  2013     10    3    2058.0       -1.0    2323.0      -35.0      UA  N37465   \n",
       "3  2013     10    4    1003.0        3.0    1300.0       -6.0      UA  N37465   \n",
       "4  2013     10    7    1926.0       81.0    2123.0       55.0      UA  N37465   \n",
       "\n",
       "   flight  ...  hour minute       Date                     type  manufacturer  \\\n",
       "0    1292  ...  18.0   46.0 2013-01-18  Fixed wing multi engine        BOEING   \n",
       "1    1158  ...  12.0   57.0 2013-10-03  Fixed wing multi engine        BOEING   \n",
       "2    1416  ...  20.0   58.0 2013-10-03  Fixed wing multi engine        BOEING   \n",
       "3    1735  ...  10.0    3.0 2013-10-04  Fixed wing multi engine        BOEING   \n",
       "4    1139  ...  19.0   26.0 2013-10-07  Fixed wing multi engine        BOEING   \n",
       "\n",
       "       model engines seats speed     engine  \n",
       "0  737-924ER       2   191   NaN  Turbo-fan  \n",
       "1  737-924ER       2   191   NaN  Turbo-fan  \n",
       "2  737-924ER       2   191   NaN  Turbo-fan  \n",
       "3  737-924ER       2   191   NaN  Turbo-fan  \n",
       "4  737-924ER       2   191   NaN  Turbo-fan  \n",
       "\n",
       "[5 rows x 24 columns]"
      ]
     },
     "execution_count": 88,
     "metadata": {},
     "output_type": "execute_result"
    }
   ],
   "source": [
    "df_merged=pd.merge(df2,df3)\n",
    "df_merged.head()"
   ]
  },
  {
   "cell_type": "code",
   "execution_count": 34,
   "id": "2097df2f",
   "metadata": {},
   "outputs": [
    {
     "data": {
      "text/html": [
       "<div>\n",
       "<style scoped>\n",
       "    .dataframe tbody tr th:only-of-type {\n",
       "        vertical-align: middle;\n",
       "    }\n",
       "\n",
       "    .dataframe tbody tr th {\n",
       "        vertical-align: top;\n",
       "    }\n",
       "\n",
       "    .dataframe thead th {\n",
       "        text-align: right;\n",
       "    }\n",
       "</style>\n",
       "<table border=\"1\" class=\"dataframe\">\n",
       "  <thead>\n",
       "    <tr style=\"text-align: right;\">\n",
       "      <th></th>\n",
       "      <th>arr_delay</th>\n",
       "      <th>manufacturer</th>\n",
       "    </tr>\n",
       "  </thead>\n",
       "  <tbody>\n",
       "    <tr>\n",
       "      <th>0</th>\n",
       "      <td>36.0</td>\n",
       "      <td>BOEING</td>\n",
       "    </tr>\n",
       "    <tr>\n",
       "      <th>4</th>\n",
       "      <td>55.0</td>\n",
       "      <td>BOEING</td>\n",
       "    </tr>\n",
       "    <tr>\n",
       "      <th>7</th>\n",
       "      <td>35.0</td>\n",
       "      <td>BOEING</td>\n",
       "    </tr>\n",
       "    <tr>\n",
       "      <th>8</th>\n",
       "      <td>3.0</td>\n",
       "      <td>BOEING</td>\n",
       "    </tr>\n",
       "    <tr>\n",
       "      <th>14</th>\n",
       "      <td>11.0</td>\n",
       "      <td>BOEING</td>\n",
       "    </tr>\n",
       "    <tr>\n",
       "      <th>...</th>\n",
       "      <td>...</td>\n",
       "      <td>...</td>\n",
       "    </tr>\n",
       "    <tr>\n",
       "      <th>4619</th>\n",
       "      <td>2.0</td>\n",
       "      <td>BOEING</td>\n",
       "    </tr>\n",
       "    <tr>\n",
       "      <th>4624</th>\n",
       "      <td>5.0</td>\n",
       "      <td>BOEING</td>\n",
       "    </tr>\n",
       "    <tr>\n",
       "      <th>4625</th>\n",
       "      <td>13.0</td>\n",
       "      <td>BOEING</td>\n",
       "    </tr>\n",
       "    <tr>\n",
       "      <th>4626</th>\n",
       "      <td>29.0</td>\n",
       "      <td>BOEING</td>\n",
       "    </tr>\n",
       "    <tr>\n",
       "      <th>4628</th>\n",
       "      <td>7.0</td>\n",
       "      <td>BOEING</td>\n",
       "    </tr>\n",
       "  </tbody>\n",
       "</table>\n",
       "<p>1694 rows × 2 columns</p>\n",
       "</div>"
      ],
      "text/plain": [
       "      arr_delay manufacturer\n",
       "0          36.0       BOEING\n",
       "4          55.0       BOEING\n",
       "7          35.0       BOEING\n",
       "8           3.0       BOEING\n",
       "14         11.0       BOEING\n",
       "...         ...          ...\n",
       "4619        2.0       BOEING\n",
       "4624        5.0       BOEING\n",
       "4625       13.0       BOEING\n",
       "4626       29.0       BOEING\n",
       "4628        7.0       BOEING\n",
       "\n",
       "[1694 rows x 2 columns]"
      ]
     },
     "execution_count": 34,
     "metadata": {},
     "output_type": "execute_result"
    }
   ],
   "source": [
    "df_mer = pd.DataFrame(df_merged, columns = [\"arr_delay\",\"manufacturer\"])\n",
    "df_mer1 = df_mer.loc[df_mer[\"arr_delay\"] > 0]\n",
    "df_mer1"
   ]
  },
  {
   "cell_type": "code",
   "execution_count": 97,
   "id": "27c8b82a",
   "metadata": {},
   "outputs": [
    {
     "data": {
      "text/html": [
       "<div>\n",
       "<style scoped>\n",
       "    .dataframe tbody tr th:only-of-type {\n",
       "        vertical-align: middle;\n",
       "    }\n",
       "\n",
       "    .dataframe tbody tr th {\n",
       "        vertical-align: top;\n",
       "    }\n",
       "\n",
       "    .dataframe thead th {\n",
       "        text-align: right;\n",
       "    }\n",
       "</style>\n",
       "<table border=\"1\" class=\"dataframe\">\n",
       "  <thead>\n",
       "    <tr style=\"text-align: right;\">\n",
       "      <th></th>\n",
       "      <th>arr_delay</th>\n",
       "    </tr>\n",
       "    <tr>\n",
       "      <th>manufacturer</th>\n",
       "      <th></th>\n",
       "    </tr>\n",
       "  </thead>\n",
       "  <tbody>\n",
       "    <tr>\n",
       "      <th>BOEING</th>\n",
       "      <td>578</td>\n",
       "    </tr>\n",
       "    <tr>\n",
       "      <th>EMBRAER</th>\n",
       "      <td>541</td>\n",
       "    </tr>\n",
       "    <tr>\n",
       "      <th>AIRBUS</th>\n",
       "      <td>382</td>\n",
       "    </tr>\n",
       "    <tr>\n",
       "      <th>BOMBARDIER INC</th>\n",
       "      <td>180</td>\n",
       "    </tr>\n",
       "    <tr>\n",
       "      <th>AIRBUS INDUSTRIE</th>\n",
       "      <td>13</td>\n",
       "    </tr>\n",
       "  </tbody>\n",
       "</table>\n",
       "</div>"
      ],
      "text/plain": [
       "                  arr_delay\n",
       "manufacturer               \n",
       "BOEING                  578\n",
       "EMBRAER                 541\n",
       "AIRBUS                  382\n",
       "BOMBARDIER INC          180\n",
       "AIRBUS INDUSTRIE         13"
      ]
     },
     "execution_count": 97,
     "metadata": {},
     "output_type": "execute_result"
    }
   ],
   "source": [
    "df_mer2=df_mer1.groupby([\"manufacturer\"]).count().sort_values(by=\"arr_delay\",ascending=False)\n",
    "df_mer2"
   ]
  },
  {
   "cell_type": "code",
   "execution_count": 85,
   "id": "2fd4573d",
   "metadata": {},
   "outputs": [
    {
     "data": {
      "text/plain": [
       "arr_delay    BOEING\n",
       "dtype: object"
      ]
     },
     "execution_count": 85,
     "metadata": {},
     "output_type": "execute_result"
    }
   ],
   "source": [
    "df_mer2.idxmax()"
   ]
  },
  {
   "cell_type": "code",
   "execution_count": null,
   "id": "d2498343",
   "metadata": {},
   "outputs": [],
   "source": [
    "# Ans: BOEING is the manufacturer that has most arrival delays"
   ]
  },
  {
   "cell_type": "markdown",
   "id": "3f9f47ca",
   "metadata": {},
   "source": [
    "### 5. which are the two most connected cities?"
   ]
  },
  {
   "cell_type": "code",
   "execution_count": 95,
   "id": "78870b96",
   "metadata": {},
   "outputs": [
    {
     "data": {
      "text/plain": [
       "origin  dest\n",
       "JFK     LAX     11262\n",
       "LGA     ATL     10263\n",
       "        ORD      8857\n",
       "JFK     SFO      8204\n",
       "LGA     CLT      6168\n",
       "                ...  \n",
       "JFK     STL         1\n",
       "EWR     LGA         1\n",
       "LGA     LEX         1\n",
       "JFK     MEM         1\n",
       "        BHM         1\n",
       "Length: 224, dtype: int64"
      ]
     },
     "execution_count": 95,
     "metadata": {},
     "output_type": "execute_result"
    }
   ],
   "source": [
    "df2[['origin','dest']].value_counts()"
   ]
  },
  {
   "cell_type": "code",
   "execution_count": null,
   "id": "9532cc50",
   "metadata": {},
   "outputs": [],
   "source": [
    "# ANS: From the above result, JFK and LAX are the 2 most connected cities"
   ]
  }
 ],
 "metadata": {
  "kernelspec": {
   "display_name": "Python 3",
   "language": "python",
   "name": "python3"
  },
  "language_info": {
   "codemirror_mode": {
    "name": "ipython",
    "version": 3
   },
   "file_extension": ".py",
   "mimetype": "text/x-python",
   "name": "python",
   "nbconvert_exporter": "python",
   "pygments_lexer": "ipython3",
   "version": "3.8.8"
  }
 },
 "nbformat": 4,
 "nbformat_minor": 5
}
